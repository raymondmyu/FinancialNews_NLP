{
 "cells": [
  {
   "cell_type": "code",
   "execution_count": 78,
   "metadata": {},
   "outputs": [],
   "source": [
    "import pandas as pd\n",
    "import numpy as np\n",
    "import spacy\n",
    "import glob\n",
    "import os\n",
    "import re\n",
    "import csv"
   ]
  },
  {
   "cell_type": "code",
   "execution_count": 7,
   "metadata": {},
   "outputs": [
    {
     "name": "stdout",
     "output_type": "stream",
     "text": [
      "businesspro-energy-exxonmobil-alaska-dc-idUSN2021166720061020\r\n",
      "businesspro-google-dc-idUSN2036351320061020\r\n"
     ]
    }
   ],
   "source": [
    "!ls ../financial-news-dataset/ReutersNews106521/20061020"
   ]
  },
  {
   "cell_type": "code",
   "execution_count": 30,
   "metadata": {},
   "outputs": [],
   "source": [
    "reuters_path = '../financial-news-dataset/ReutersNews106521/'"
   ]
  },
  {
   "cell_type": "code",
   "execution_count": 10,
   "metadata": {},
   "outputs": [],
   "source": [
    "example_path = '../financial-news-dataset/ReutersNews106521/20061020/businesspro-energy-exxonmobil-alaska-dc-idUSN2021166720061020'"
   ]
  },
  {
   "cell_type": "code",
   "execution_count": 11,
   "metadata": {
    "scrolled": true
   },
   "outputs": [
    {
     "name": "stdout",
     "output_type": "stream",
     "text": [
      "-- Exxon Mobil offers plan to end Alaska dispute\r\n",
      "-- By  Yereth Rosen\r\n",
      "-- Fri Oct 20, 2006 6:15pm EDT\r\n",
      "-- http://www.reuters.com/article/2006/10/20/businesspro-energy-exxonmobil-alaska-dc-idUSN2021166720061020\r\n",
      "\r\n",
      " \r\n",
      "\r\n",
      " ANCHORAGE, Alaska  (Reuters) - Exxon Mobil ( XOM.N ) offered \r\n",
      "to pay a $20 million fine and relinquish some leases to the \r\n",
      "state of Alaska to resolve a dispute over a North Slope oil and \r\n",
      "gas field that has remained undeveloped for decades, according \r\n",
      "to a letter made public on Friday. \r\n",
      "\r\n",
      "  In a proposal sent earlier this week to the Alaska \r\n",
      "Department of Natural Resources, Exxon Mobil offered to pay the \r\n",
      "fine and surrender about 20,000 acres of the 116,000-acre Point \r\n",
      "Thomson unit for failure to develop the field as quickly as \r\n",
      "promised.  The company's offer was accompanied by an updated plan that \r\n",
      "links future field development to a yet-to-be-built pipeline \r\n",
      "that would ship North Slope natural gas to the lower 48 U.S. \r\n",
      "states. The natural gas pipeline, a massive project estimated \r\n",
      "to cost over $20 billion, is expected to take years to build.  \"We believe this approach is in the best interest of the \r\n",
      "State and the PTU (Point Thomson Unit) Owners,\" wrote Richard \r\n",
      "Owen, Alaska production manager for Exxon Mobil.  Point Thomson holds 250 million to 300 million barrels of \r\n",
      "liquids, both natural gas condensates and oil, according to \r\n",
      "state officials. It also holds 8 trillion cubic feet of \r\n",
      "conventional natural gas.  Some of the 46 leases in the Point Thomson unit were \r\n",
      "acquired as early as 1965, and more than half were acquired \r\n",
      "before 1970, according to state information.  Exxon Mobil and its partners -- BP Plc ( BP.L ), Chevron \r\n",
      "( CVX.N ) and ConocoPhillips ( COP.N ) -- risk losing nearly all \r\n",
      "the Point Thomson leases if the state finds the new offer \r\n",
      "insufficient.  The state can trigger revocation action if it deems the \r\n",
      "company's new development plan unacceptable and if Exxon Mobil \r\n",
      "fails in appealing an earlier ruling that it has defaulted on \r\n",
      "terms of its leases, Bill Van Dyke, acting director of the \r\n",
      "state Division of Oil and Gas, said earlier this week.  Normally, state oil and gas leases expire after five to 10 \r\n",
      "years if there has been no commercial development, but the unit \r\n",
      "has been granted many extensions.  The Point Thomson leases, aggregated into an oil-field \r\n",
      "unit, have been the subject of nearly two dozen development \r\n",
      "plans. The reserves were discovered in 1977.  Last year, Mark Myers, former director of the Alaska \r\n",
      "Division of Oil and Gas, ruled that Exxon Mobil had defaulted \r\n",
      "on its Point Thomson leases. The company had reneged on an \r\n",
      "agreement signed with the state in 2001 to start drilling seven \r\n",
      "development wells by specific deadlines, Myers said.  \"Continuing this 30-year record of non-development and \r\n",
      "delay of an oil and gas lessee's obligation to develop and \r\n",
      "produce its oil and gas lease makes a mockery of the statutory, \r\n",
      "regulatory and contractual protections for the State as owner \r\n",
      "of the oil and gas estate,\" Myers wrote in his 2005 decision \r\n",
      "that launched the state's current showdown with Exxon Mobil.  Exxon Mobil has until November 3 to appeal the state's \r\n",
      "default declaration, and a hearing on the appeal is scheduled \r\n",
      "10 days after that, state officials said."
     ]
    }
   ],
   "source": [
    "!cat {example_path}"
   ]
  },
  {
   "cell_type": "markdown",
   "metadata": {},
   "source": [
    "# Concat all files into one file"
   ]
  },
  {
   "cell_type": "markdown",
   "metadata": {},
   "source": [
    "## Extract title, author, date, url, location, text"
   ]
  },
  {
   "cell_type": "code",
   "execution_count": 32,
   "metadata": {},
   "outputs": [],
   "source": [
    "for folder in glob.glob(os.path.join(reuters_path,'*')):\n",
    "    for file in glob.glob(os.path.join(folder,'*')):\n",
    "        files.append(file)"
   ]
  },
  {
   "cell_type": "code",
   "execution_count": 207,
   "metadata": {},
   "outputs": [],
   "source": [
    "def parse_text_components(file):\n",
    "    dashes = re.compile('-+\\s+')\n",
    "    with open(file) as f:\n",
    "        title = dashes.sub('', f.readline()).replace('\\n','').replace('\\t','')\n",
    "        author = dashes.sub('', f.readline()).replace('\\n','').replace('\\t','')\n",
    "        author = re.sub('By\\s+','',author)\n",
    "        date = dashes.sub('', f.readline()).replace('\\n','').replace('\\t','')\n",
    "        url = dashes.sub('', f.readline()).replace('\\n','').replace('\\t','')\n",
    "        content = f.read().replace('\\n',' ').replace('\\t','').strip()\n",
    "        first_dash = content.find('-')  # Find first dash\n",
    "        location = content[:first_dash].strip()  # Location is everything before\n",
    "        content = content[first_dash+1:].strip()  # Content is everything after\n",
    "        location = location.replace('(Reuters)','').strip()  # Take out Reuters tag\n",
    "        securities = ','.join(re.findall('\\(\\s([A-Z\\d]+.[A-Z]+)\\s\\)',content))  # Extract securities\n",
    "        content = re.sub('\\(\\s[A-Z\\d]+.[A-Z]+\\s\\)','',content).replace('  ',' ')  # Remove securities from content\n",
    "    return [title, author, date, url, location, securities, content]"
   ]
  },
  {
   "cell_type": "code",
   "execution_count": 214,
   "metadata": {
    "scrolled": false
   },
   "outputs": [
    {
     "name": "stdout",
     "output_type": "stream",
     "text": [
      "0\n",
      "10000\n",
      "20000\n",
      "30000\n",
      "40000\n",
      "50000\n",
      "60000\n",
      "70000\n",
      "80000\n",
      "90000\n",
      "100000\n"
     ]
    }
   ],
   "source": [
    "with open('all_reuters.txt', \"w\") as csv_file:\n",
    "    writer = csv.writer(csv_file, delimiter='\\t')\n",
    "    writer.writerow('title, author, date, url, location, securities, content'.split(', '))\n",
    "    for i, file in enumerate(files):\n",
    "        if i%1e4 == 0: print(i)\n",
    "        try:\n",
    "            row = parse_text_components(file)\n",
    "        except:\n",
    "            continue\n",
    "        writer.writerow(row)"
   ]
  },
  {
   "cell_type": "code",
   "execution_count": 217,
   "metadata": {},
   "outputs": [
    {
     "name": "stdout",
     "output_type": "stream",
     "text": [
      "-rw-r--r--  1 ray  staff   319M Apr  4 21:37 all_reuters.txt\r\n"
     ]
    }
   ],
   "source": [
    "!ls -lh all_reuters.txt"
   ]
  },
  {
   "cell_type": "code",
   "execution_count": 218,
   "metadata": {},
   "outputs": [
    {
     "name": "stdout",
     "output_type": "stream",
     "text": [
      "  106520 all_reuters.txt\r\n"
     ]
    }
   ],
   "source": [
    "!wc -l all_reuters.txt"
   ]
  },
  {
   "cell_type": "code",
   "execution_count": 216,
   "metadata": {
    "scrolled": true
   },
   "outputs": [
    {
     "name": "stdout",
     "output_type": "stream",
     "text": [
      "content\n",
      "Hitachi Ltd. said on Monday it has agreed with General Electric Co. to expand their global alliance in the nuclear power business, aiming to strengthen their position in a growing market.  The move comes a month after France's Areva CEPFi.PA, the world's largest maker of nuclear reactors, and Japan's Mitsubishi Heavy Industries said they would cooperate in this sector, while Toshiba Corp. completed a $4.2 billion deal to take control of Westinghouse, the U.S. power plant unit of British Nuclear Fuels. \"We aim to grow in the global nuclear power market, such as in advanced boiling-water reactors, by generating synergies with our expertise and experience,\" Hitachi said in a statement. Hitachi, which estimates that 100 more nuclear power plants will be built industry-wide in the next 20 years, said the two companies would form joint ventures in Japan and the United States to construct and maintain nuclear power plants. Hitachi said it would hold a news conference at 5 p.m. (3:00 a.m. EST). The Japanese venture will be 80 percent-owned by Hitachi and 20 percent by GE, while GE will own 60 percent of the U.S. venture with Hitachi taking the rest. The two companies will discuss details of the alliance and will sign a final contract in the first half of 2007. Before the announcement, shares in Hitachi closed up 0.4 percent at 699 yen, while the benchmark Nikkei average .N225 fell 0.56 percent. GE ended trading on Friday down 0.3 percent at $35.17.\n",
      "Truck maker Volvo said on Monday it would cut about 1,000 staff at its Dublin, Virginia plant in the United States due to an expected decline in output.  After years of strong demand truck makers see a sharp drop in sales in the early months of 2007 as a buying spree of older, but cheaper, trucks ahead of new tougher exhaust emission rules, taking effect at the turn of the year, comes to an end. Volvo has said that the North American heavy-duty truck market could contract by as much as 40 percent during the first half of next year. \"It is completely an adjustment to the expected volume declines due to the pre-buy effect in connection to the new emission rules,\" Volvo spokesman Marten Wikforss told Reuters. The staff cuts at the plant, where the firm assembles trucks of the Volvo and Mack brands, will begin in January next year and be completed during the first quarter. Volvo has already said it will cut 600 jobs at its subsidiary Mack Truck's plant in Hagerstown, Maryland, during the first six months of 2007. Wikforss repeated an earlier estimate that the total costs for the firm's cut-backs in the United States will weigh on fourth-quarter earnings to the tune of 100 million Swedish crowns ($14.13 million).\n",
      "West European banks are failing to disclose unfunded staff pension obligations running to billions of dollars, in contrast to U.S. banks which are required to show the full picture, Standard & Poor's said in a report on Monday.  Since adopting International Financial Reporting Standards (IFRS) in 2004, many European banks have used the so-called corridor method of accounting, allowing big unrecognized actuarial losses on their pension obligations to be kept off the balance sheet. \"They are hiding behind the corridor method,\" said the report's author Eddie Khamoo. \"The real picture which has emerged is that we have a huge amount of pension deficits which ultimately will require cash funding.\" The report on defined-benefit pension plans of 44 West European banks said the transition to IFRS reporting resulted in about 19 billion euros (US$24.4 billion) being charged directly to banks' retained earnings. \"This amount permanently escapes being reported in earnings and represented 2 percent of the banks' shareholders' equity at (the time of) transition (to IFRS reporting),\" said the report. Some Swiss and German banks adopted IFRS earlier and did not have to make the charge. Khamoo said the corridor accounting method should be scrapped. \"We would encourage full disclosure,\" he said. Banks also had to come up with a funding plan for their pension liabilities. \"This is something they have to face up to. These are very large amounts and they have to fund liabilities with related assets,\" said Khamoo. Since the transition to IFRS, a further 4 billion euros in costs had been charged directly to shareholders' equity and \"9 billion euros has not been accounted for at all by banks that adopted the corridor method at January 1, 2004.\" When banks transferred to IFRS in January 2004, they set their books to zero, charging past actuarial losses to their accounts. \"But in less than two years they have developed 9 billion euros of further actuarial losses. That's a hug sum of money for a short period of time,\" said Khamoo. The report said the risk arising from defined-benefit pension obligations amounted to an additional visible risk to many financial institutions \"along with the more traditional banking factors of credit and market risk.\" Lloyds Bank had the highest pension obligations as a percentage of shareholders' equity at more than 160 percent at the end of 2005. Commerzbank had the lowest, at around 20 percent. The overall net deficit for the banks in the survey rose by 16.7 percent over 2005. The corridor method was adopted by 35 of the 44 European banks in the survey and the banks that did not adopt it were mostly based in Britain and Ireland. United States accounting requirements are more onerous regarding pensions liabilities. \"The FASB (Financial Accounting Standards Board) came up with new standards which are effective for U.S. public companies from December 2006 and they have to record the whole funded status into the balance sheet,\" said Khamoo.\n",
      "Japan's Hitachi Ltd. and U.S. group General Electric Co. said on Monday they would set up joint ventures in Japan and the United States to combine their nuclear power operations and capture more contracts.  The partnership would help Hitachi, Japan's biggest electronics conglomerate, turn its nuclear power business around and help it get more boiling water reactor contracts abroad, Hitachi said. Hitachi President Kazuo Furukawa told reporters the company aimed to win contracts to build at least a third of the 25 nuclear power plants the U.S. Department of Energy aims to have built by 2020. Hitachi, which had sales of 160 billion yen ($1.4 billion) from its nuclear power business in Japan last year, will transfer its 2,000-person nuclear power division to a joint venture in Japan. Hitachi will hold a 80 percent stake in the company, while GE will hold 20 percent. GE will own 60 percent of the venture in the United States, with Hitachi holding 40 percent, the two companies said. GE has roughly 1,500 employees involved in its $1 billion nuclear power business, GE said. The move comes a month after France's Areva, the world's largest maker of nuclear reactors, and Japan's Mitsubishi Heavy Industries Ltd said they would cooperate in this sector, while Japan's Toshiba Corp. completed a $4.2 billion deal to take control of Westinghouse, the U.S. power plant unit of British Nuclear Fuels. \"We are not doing this in response to the competition,\" Rudolph Villa, president of GE's nuclear energy in Asia unit, told reporters. \"This partnership is to better meet growing demand. Hitachi is very much experienced in building new plants.\" GE also is a partner with Hitachi rival Toshiba. GE will not create similar joint ventures with Toshiba, but Toshiba will continue to be a supplier, Villa said. Hitachi's deal with GE, to be signed by June 2007, comes as market watchers worry about Hitachi's ability to secure overseas contracts, after its faulty turbines caused nuclear power units to close down at Japanese utilities Chubu Electric Power Co. and Hokuriku Electric Power Co. in the summer. Hitachi expects a group net loss of 55 billion yen for the year to March, after factoring in an expected cost of 38 billion yen fix the turbines, plus cost overruns at its U.S. thermal power plants. Nuclear power has come back into favor on concerns about crude oil price rises among fuel-hungry countries such as the United States and China. GE and Hitachi won a $5.2 billion contract in June to build nuclear facilities starting in 2009 for U.S. power company NRG Energy Inc., in Hitachi's first major contract abroad. The two companies have been involved in the building of 63 of the 95 boiling water reactor business now in operation worldwide. Prior to the announcement, Hitachi shares closed up 0.43 percent at 699 yen, while GE ended trading on Friday down 0.3 percent at $35.17. (Additional reporting by Sachi Izumi)\n"
     ]
    }
   ],
   "source": [
    "with open('all_reuters.txt', \"r\") as csv_file:\n",
    "    csvReader = csv.reader(csv_file, delimiter='\\t')\n",
    "    for i in range(5):\n",
    "        print(next(csvReader)[6])"
   ]
  },
  {
   "cell_type": "code",
   "execution_count": null,
   "metadata": {},
   "outputs": [],
   "source": []
  }
 ],
 "metadata": {
  "kernelspec": {
   "display_name": "Python 3",
   "language": "python",
   "name": "python3"
  },
  "language_info": {
   "codemirror_mode": {
    "name": "ipython",
    "version": 3
   },
   "file_extension": ".py",
   "mimetype": "text/x-python",
   "name": "python",
   "nbconvert_exporter": "python",
   "pygments_lexer": "ipython3",
   "version": "3.6.3"
  }
 },
 "nbformat": 4,
 "nbformat_minor": 2
}
